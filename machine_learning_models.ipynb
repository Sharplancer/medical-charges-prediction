{
 "cells": [
  {
   "cell_type": "markdown",
   "metadata": {},
   "source": [
    "### Reading and Preprocessing Data"
   ]
  },
  {
   "cell_type": "code",
   "execution_count": 29,
   "metadata": {},
   "outputs": [],
   "source": [
    "import numpy as np\n",
    "import pandas as pd\n",
    "from sklearn.model_selection import train_test_split\n",
    "from sklearn.preprocessing import OneHotEncoder\n",
    "from sklearn.ensemble import RandomForestRegressor\n",
    "from sklearn.preprocessing import StandardScaler\n",
    "from sklearn.linear_model import LinearRegression # for linear regression\n",
    "from sklearn.preprocessing import PolynomialFeatures # for adding polynomial features\n",
    "from sklearn.linear_model import Lasso # for lasso regression\n",
    "from sklearn.svm import SVR # for support vector regression\n",
    "from sklearn.pipeline import Pipeline\n",
    "import pickle\n",
    "# hyptertuning\n",
    "from sklearn.model_selection import GridSearchCV\n",
    "from sklearn.model_selection import RandomizedSearchCV\n"
   ]
  },
  {
   "cell_type": "code",
   "execution_count": 2,
   "metadata": {},
   "outputs": [
    {
     "data": {
      "text/html": [
       "<div>\n",
       "<style scoped>\n",
       "    .dataframe tbody tr th:only-of-type {\n",
       "        vertical-align: middle;\n",
       "    }\n",
       "\n",
       "    .dataframe tbody tr th {\n",
       "        vertical-align: top;\n",
       "    }\n",
       "\n",
       "    .dataframe thead th {\n",
       "        text-align: right;\n",
       "    }\n",
       "</style>\n",
       "<table border=\"1\" class=\"dataframe\">\n",
       "  <thead>\n",
       "    <tr style=\"text-align: right;\">\n",
       "      <th></th>\n",
       "      <th>age</th>\n",
       "      <th>sex</th>\n",
       "      <th>bmi</th>\n",
       "      <th>children</th>\n",
       "      <th>smoker</th>\n",
       "      <th>region</th>\n",
       "      <th>charges</th>\n",
       "    </tr>\n",
       "  </thead>\n",
       "  <tbody>\n",
       "    <tr>\n",
       "      <th>0</th>\n",
       "      <td>19</td>\n",
       "      <td>female</td>\n",
       "      <td>27.900</td>\n",
       "      <td>0</td>\n",
       "      <td>yes</td>\n",
       "      <td>southwest</td>\n",
       "      <td>16884.92400</td>\n",
       "    </tr>\n",
       "    <tr>\n",
       "      <th>1</th>\n",
       "      <td>18</td>\n",
       "      <td>male</td>\n",
       "      <td>33.770</td>\n",
       "      <td>1</td>\n",
       "      <td>no</td>\n",
       "      <td>southeast</td>\n",
       "      <td>1725.55230</td>\n",
       "    </tr>\n",
       "    <tr>\n",
       "      <th>2</th>\n",
       "      <td>28</td>\n",
       "      <td>male</td>\n",
       "      <td>33.000</td>\n",
       "      <td>3</td>\n",
       "      <td>no</td>\n",
       "      <td>southeast</td>\n",
       "      <td>4449.46200</td>\n",
       "    </tr>\n",
       "    <tr>\n",
       "      <th>3</th>\n",
       "      <td>33</td>\n",
       "      <td>male</td>\n",
       "      <td>22.705</td>\n",
       "      <td>0</td>\n",
       "      <td>no</td>\n",
       "      <td>northwest</td>\n",
       "      <td>21984.47061</td>\n",
       "    </tr>\n",
       "    <tr>\n",
       "      <th>4</th>\n",
       "      <td>32</td>\n",
       "      <td>male</td>\n",
       "      <td>28.880</td>\n",
       "      <td>0</td>\n",
       "      <td>no</td>\n",
       "      <td>northwest</td>\n",
       "      <td>3866.85520</td>\n",
       "    </tr>\n",
       "  </tbody>\n",
       "</table>\n",
       "</div>"
      ],
      "text/plain": [
       "   age     sex     bmi  children smoker     region      charges\n",
       "0   19  female  27.900         0    yes  southwest  16884.92400\n",
       "1   18    male  33.770         1     no  southeast   1725.55230\n",
       "2   28    male  33.000         3     no  southeast   4449.46200\n",
       "3   33    male  22.705         0     no  northwest  21984.47061\n",
       "4   32    male  28.880         0     no  northwest   3866.85520"
      ]
     },
     "execution_count": 2,
     "metadata": {},
     "output_type": "execute_result"
    }
   ],
   "source": [
    "df = pd.read_csv(\"data/insurance.csv\")\n",
    "df.head()"
   ]
  },
  {
   "cell_type": "markdown",
   "metadata": {},
   "source": [
    "### Encoding"
   ]
  },
  {
   "cell_type": "code",
   "execution_count": 3,
   "metadata": {},
   "outputs": [
    {
     "data": {
      "text/plain": [
       "array(['smoker_yes'], dtype=object)"
      ]
     },
     "execution_count": 3,
     "metadata": {},
     "output_type": "execute_result"
    }
   ],
   "source": [
    "ohe_smoker = OneHotEncoder(drop='first').fit(df[\"smoker\"].values.reshape(-1,1))\n",
    "ohe_smoker.get_feature_names(['smoker'])"
   ]
  },
  {
   "cell_type": "code",
   "execution_count": 4,
   "metadata": {},
   "outputs": [],
   "source": [
    "df = pd.concat(\n",
    "    [\n",
    "        df,\n",
    "        pd.DataFrame(ohe_smoker.transform(df[\"smoker\"].values.reshape(-1,1)).toarray(),\n",
    "                    columns = ohe_smoker.get_feature_names(['smoker'])).astype(int)\n",
    "    ], axis=1).drop(\"smoker\", axis=1)"
   ]
  },
  {
   "cell_type": "code",
   "execution_count": 5,
   "metadata": {},
   "outputs": [
    {
     "data": {
      "text/plain": [
       "array(['sex_male'], dtype=object)"
      ]
     },
     "execution_count": 5,
     "metadata": {},
     "output_type": "execute_result"
    }
   ],
   "source": [
    "ohe_sex = OneHotEncoder(drop='first').fit(df[\"sex\"].values.reshape(-1,1))\n",
    "ohe_sex.get_feature_names(['sex'])"
   ]
  },
  {
   "cell_type": "code",
   "execution_count": 6,
   "metadata": {},
   "outputs": [],
   "source": [
    "df = pd.concat(\n",
    "    [\n",
    "        df,\n",
    "        pd.DataFrame(ohe_sex.transform(df[\"sex\"].values.reshape(-1,1)).toarray(),\n",
    "                    columns = ohe_sex.get_feature_names(['sex'])).astype(int)\n",
    "    ], axis=1).drop(\"sex\", axis=1)"
   ]
  },
  {
   "cell_type": "code",
   "execution_count": 7,
   "metadata": {},
   "outputs": [
    {
     "data": {
      "text/plain": [
       "array(['region_northwest', 'region_southeast', 'region_southwest'],\n",
       "      dtype=object)"
      ]
     },
     "execution_count": 7,
     "metadata": {},
     "output_type": "execute_result"
    }
   ],
   "source": [
    "ohe_region = OneHotEncoder(drop='first').fit(df[\"region\"].values.reshape(-1,1))\n",
    "ohe_region.get_feature_names(['region'])"
   ]
  },
  {
   "cell_type": "code",
   "execution_count": 8,
   "metadata": {},
   "outputs": [],
   "source": [
    "df = pd.concat(\n",
    "    [\n",
    "        df,\n",
    "        pd.DataFrame(ohe_region.transform(df[\"region\"].values.reshape(-1,1)).toarray(),\n",
    "                    columns = ohe_region.get_feature_names(['region'])).astype(int)\n",
    "    ], axis=1).drop(\"region\", axis=1)"
   ]
  },
  {
   "cell_type": "code",
   "execution_count": 9,
   "metadata": {},
   "outputs": [
    {
     "data": {
      "text/html": [
       "<div>\n",
       "<style scoped>\n",
       "    .dataframe tbody tr th:only-of-type {\n",
       "        vertical-align: middle;\n",
       "    }\n",
       "\n",
       "    .dataframe tbody tr th {\n",
       "        vertical-align: top;\n",
       "    }\n",
       "\n",
       "    .dataframe thead th {\n",
       "        text-align: right;\n",
       "    }\n",
       "</style>\n",
       "<table border=\"1\" class=\"dataframe\">\n",
       "  <thead>\n",
       "    <tr style=\"text-align: right;\">\n",
       "      <th></th>\n",
       "      <th>age</th>\n",
       "      <th>bmi</th>\n",
       "      <th>children</th>\n",
       "      <th>charges</th>\n",
       "      <th>smoker_yes</th>\n",
       "      <th>sex_male</th>\n",
       "      <th>region_northwest</th>\n",
       "      <th>region_southeast</th>\n",
       "      <th>region_southwest</th>\n",
       "    </tr>\n",
       "  </thead>\n",
       "  <tbody>\n",
       "    <tr>\n",
       "      <th>0</th>\n",
       "      <td>19</td>\n",
       "      <td>27.900</td>\n",
       "      <td>0</td>\n",
       "      <td>16884.92400</td>\n",
       "      <td>1</td>\n",
       "      <td>0</td>\n",
       "      <td>0</td>\n",
       "      <td>0</td>\n",
       "      <td>1</td>\n",
       "    </tr>\n",
       "    <tr>\n",
       "      <th>1</th>\n",
       "      <td>18</td>\n",
       "      <td>33.770</td>\n",
       "      <td>1</td>\n",
       "      <td>1725.55230</td>\n",
       "      <td>0</td>\n",
       "      <td>1</td>\n",
       "      <td>0</td>\n",
       "      <td>1</td>\n",
       "      <td>0</td>\n",
       "    </tr>\n",
       "    <tr>\n",
       "      <th>2</th>\n",
       "      <td>28</td>\n",
       "      <td>33.000</td>\n",
       "      <td>3</td>\n",
       "      <td>4449.46200</td>\n",
       "      <td>0</td>\n",
       "      <td>1</td>\n",
       "      <td>0</td>\n",
       "      <td>1</td>\n",
       "      <td>0</td>\n",
       "    </tr>\n",
       "    <tr>\n",
       "      <th>3</th>\n",
       "      <td>33</td>\n",
       "      <td>22.705</td>\n",
       "      <td>0</td>\n",
       "      <td>21984.47061</td>\n",
       "      <td>0</td>\n",
       "      <td>1</td>\n",
       "      <td>1</td>\n",
       "      <td>0</td>\n",
       "      <td>0</td>\n",
       "    </tr>\n",
       "    <tr>\n",
       "      <th>4</th>\n",
       "      <td>32</td>\n",
       "      <td>28.880</td>\n",
       "      <td>0</td>\n",
       "      <td>3866.85520</td>\n",
       "      <td>0</td>\n",
       "      <td>1</td>\n",
       "      <td>1</td>\n",
       "      <td>0</td>\n",
       "      <td>0</td>\n",
       "    </tr>\n",
       "  </tbody>\n",
       "</table>\n",
       "</div>"
      ],
      "text/plain": [
       "   age     bmi  children      charges  smoker_yes  sex_male  region_northwest  \\\n",
       "0   19  27.900         0  16884.92400           1         0                 0   \n",
       "1   18  33.770         1   1725.55230           0         1                 0   \n",
       "2   28  33.000         3   4449.46200           0         1                 0   \n",
       "3   33  22.705         0  21984.47061           0         1                 1   \n",
       "4   32  28.880         0   3866.85520           0         1                 1   \n",
       "\n",
       "   region_southeast  region_southwest  \n",
       "0                 0                 1  \n",
       "1                 1                 0  \n",
       "2                 1                 0  \n",
       "3                 0                 0  \n",
       "4                 0                 0  "
      ]
     },
     "execution_count": 9,
     "metadata": {},
     "output_type": "execute_result"
    }
   ],
   "source": [
    "df.head()"
   ]
  },
  {
   "cell_type": "code",
   "execution_count": null,
   "metadata": {},
   "outputs": [],
   "source": []
  },
  {
   "cell_type": "code",
   "execution_count": null,
   "metadata": {},
   "outputs": [],
   "source": []
  },
  {
   "cell_type": "code",
   "execution_count": null,
   "metadata": {},
   "outputs": [],
   "source": []
  },
  {
   "cell_type": "code",
   "execution_count": null,
   "metadata": {},
   "outputs": [],
   "source": []
  },
  {
   "cell_type": "code",
   "execution_count": 10,
   "metadata": {},
   "outputs": [],
   "source": [
    "X = df.drop('charges', axis = 1).values\n",
    "y = df['charges'].values.reshape(-1,1)"
   ]
  },
  {
   "cell_type": "code",
   "execution_count": 11,
   "metadata": {},
   "outputs": [],
   "source": [
    "# Splitting the dataset into the Training set and Test set\n",
    "X_train, X_test, y_train, y_test = train_test_split(X, y, test_size = 0.25, random_state = 42)"
   ]
  },
  {
   "cell_type": "markdown",
   "metadata": {},
   "source": [
    "### Random Forest Regression Model"
   ]
  },
  {
   "cell_type": "code",
   "execution_count": 12,
   "metadata": {},
   "outputs": [],
   "source": [
    "regressor_rf = RandomForestRegressor()"
   ]
  },
  {
   "cell_type": "code",
   "execution_count": 13,
   "metadata": {
    "scrolled": false
   },
   "outputs": [
    {
     "name": "stdout",
     "output_type": "stream",
     "text": [
      "{'bootstrap': True, 'criterion': 'mse', 'max_depth': 50, 'max_features': 'auto', 'min_samples_leaf': 10, 'min_samples_split': 7, 'n_estimators': 1200, 'random_state': 42}\n",
      "0.84779964263699\n"
     ]
    }
   ],
   "source": [
    "# Applying RandomSearch and GridSearch to find the best model and the best parameters\n",
    "parameters =  { \"n_estimators\": [1200],\n",
    "                \"max_features\": [\"auto\"],\n",
    "                \"max_depth\": [50],\n",
    "                \"min_samples_split\": [7],\n",
    "                \"min_samples_leaf\": [10],\n",
    "                \"bootstrap\": [True],\n",
    "                \"criterion\": [\"mse\"],\n",
    "                \"random_state\" : [42] }\n",
    "            \n",
    "regressor_rf = GridSearchCV(estimator = regressor_rf,\n",
    "                                  param_grid = parameters,\n",
    "                                  cv = 10,\n",
    "                                # verbose = 4,\n",
    "                                  n_jobs = -1)\n",
    "regressor_rf = regressor_rf.fit(X_train, y_train.ravel())\n",
    "\n",
    "print(regressor_rf.best_params_)\n",
    "print(regressor_rf.best_score_)"
   ]
  },
  {
   "cell_type": "code",
   "execution_count": 14,
   "metadata": {},
   "outputs": [
    {
     "name": "stdout",
     "output_type": "stream",
     "text": [
      "CV:  0.84779964263699\n",
      "R2_score (train):  0.8894256752450939\n",
      "R2_score (test):  0.8640876470843966\n",
      "RMSE:  4528.57260418384\n"
     ]
    }
   ],
   "source": [
    "from sklearn.metrics import r2_score\n",
    "from sklearn.metrics import mean_squared_error\n",
    "# Predicting Cross Validation Score\n",
    "cv_rf = regressor_rf.best_score_\n",
    "\n",
    "# Predicting R2 Score the Train set results\n",
    "y_pred_rf_train = regressor_rf.predict(X_train)\n",
    "r2_score_rf_train = r2_score(y_train, y_pred_rf_train)\n",
    "\n",
    "# Predicting R2 Score the Test set results\n",
    "y_pred_rf_test = regressor_rf.predict(X_test)\n",
    "r2_score_rf_test = r2_score(y_test, y_pred_rf_test)\n",
    "\n",
    "# Predicting RMSE the Test set results\n",
    "rmse_rf = (np.sqrt(mean_squared_error(y_test, y_pred_rf_test)))\n",
    "print('CV: ', cv_rf.mean())\n",
    "print('R2_score (train): ', r2_score_rf_train)\n",
    "print('R2_score (test): ', r2_score_rf_test)\n",
    "print(\"RMSE: \", rmse_rf)"
   ]
  },
  {
   "cell_type": "code",
   "execution_count": 15,
   "metadata": {},
   "outputs": [],
   "source": [
    "filename = 'data/random_forest_model.sav'\n",
    "pickle.dump(regressor_rf, open(filename, 'wb'))"
   ]
  },
  {
   "cell_type": "markdown",
   "metadata": {},
   "source": [
    "### Lasso"
   ]
  },
  {
   "cell_type": "code",
   "execution_count": 23,
   "metadata": {},
   "outputs": [],
   "source": [
    "steps = [\n",
    "    ('scalar', StandardScaler()),\n",
    "    ('poly', PolynomialFeatures(degree=2)),\n",
    "    ('model', Lasso())\n",
    "]\n",
    "\n",
    "lasso_pipe = Pipeline(steps)"
   ]
  },
  {
   "cell_type": "code",
   "execution_count": 24,
   "metadata": {},
   "outputs": [
    {
     "name": "stdout",
     "output_type": "stream",
     "text": [
      "Fitting 10 folds for each of 1 candidates, totalling 10 fits\n"
     ]
    },
    {
     "name": "stderr",
     "output_type": "stream",
     "text": [
      "[Parallel(n_jobs=-1)]: Using backend LokyBackend with 4 concurrent workers.\n",
      "[Parallel(n_jobs=-1)]: Done   6 out of  10 | elapsed:    0.9s remaining:    0.6s\n",
      "[Parallel(n_jobs=-1)]: Done  10 out of  10 | elapsed:    1.4s finished\n",
      "C:\\Users\\CEPEL\\anaconda3\\lib\\site-packages\\sklearn\\model_selection\\_search.py:823: FutureWarning: The parameter 'iid' is deprecated in 0.22 and will be removed in 0.24.\n",
      "  \"removed in 0.24.\", FutureWarning\n"
     ]
    }
   ],
   "source": [
    "# Applying Grid Search to find the best model and the best parameters\n",
    "# step 1: alpha:np.arange(0.01, 1, 0.005) -> 0.9949\n",
    "\n",
    "parameters =  {  'model__alpha' : [0.9949],\n",
    "                 'model__fit_intercept' : [True],\n",
    "                 'model__tol' : [0.0001],\n",
    "                 'model__max_iter' : [5000],\n",
    "                'model__random_state': [42] \n",
    "}\n",
    "regressor_lasso = GridSearchCV(lasso_pipe, parameters, iid=False, cv=10, n_jobs = -1, verbose = 4)\n",
    "regressor_lasso = regressor_lasso.fit(X, y.ravel())"
   ]
  },
  {
   "cell_type": "code",
   "execution_count": 25,
   "metadata": {},
   "outputs": [
    {
     "name": "stdout",
     "output_type": "stream",
     "text": [
      "CV:  0.8363085787668905\n",
      "R2_score (train):  0.8429553472265139\n",
      "R2_score (test):  0.8616168844409052\n",
      "RMSE:  4569.549870893224\n"
     ]
    }
   ],
   "source": [
    "# Predicting Cross Validation Score\n",
    "cv_lasso = regressor_lasso.best_score_\n",
    "\n",
    "# Predicting R2 Score the Test set results\n",
    "y_pred_lasso_train = regressor_lasso.predict(X_train)\n",
    "r2_score_lasso_train = r2_score(y_train, y_pred_lasso_train)\n",
    "\n",
    "# Predicting R2 Score the Test set results\n",
    "y_pred_lasso_test = regressor_lasso.predict(X_test)\n",
    "r2_score_lasso_test = r2_score(y_test, y_pred_lasso_test)\n",
    "\n",
    "# Predicting RMSE the Test set results\n",
    "rmse_lasso = (np.sqrt(mean_squared_error(y_test, y_pred_lasso_test)))\n",
    "print('CV: ', cv_lasso.mean())\n",
    "print('R2_score (train): ', r2_score_lasso_train)\n",
    "print('R2_score (test): ', r2_score_lasso_test)\n",
    "print(\"RMSE: \", rmse_lasso)"
   ]
  },
  {
   "cell_type": "code",
   "execution_count": 27,
   "metadata": {},
   "outputs": [],
   "source": [
    "filename = 'data/lasso_model.sav'\n",
    "pickle.dump(regressor_lasso, open(filename, 'wb'))"
   ]
  },
  {
   "cell_type": "markdown",
   "metadata": {},
   "source": [
    "### SVR"
   ]
  },
  {
   "cell_type": "code",
   "execution_count": 40,
   "metadata": {},
   "outputs": [],
   "source": [
    "# Feature Scaling\n",
    "sc_X = StandardScaler()\n",
    "sc_y = StandardScaler()\n",
    "X_scaled = sc_X.fit_transform(X)\n",
    "y_scaled = sc_y.fit_transform(y.reshape(-1,1))"
   ]
  },
  {
   "cell_type": "code",
   "execution_count": 41,
   "metadata": {},
   "outputs": [],
   "source": [
    "# Splitting the dataset into the Training set and Test set\n",
    "X_train_scaled, X_test_scaled, y_train_scaled, y_test_scaled = train_test_split(X_scaled, y_scaled, test_size = 0.25, random_state = 42)"
   ]
  },
  {
   "cell_type": "code",
   "execution_count": 42,
   "metadata": {},
   "outputs": [],
   "source": [
    "# Creating the SVR regressor\n",
    "regressor_svr = SVR()"
   ]
  },
  {
   "cell_type": "code",
   "execution_count": 43,
   "metadata": {},
   "outputs": [
    {
     "name": "stdout",
     "output_type": "stream",
     "text": [
      "Fitting 10 folds for each of 60 candidates, totalling 600 fits\n"
     ]
    },
    {
     "name": "stderr",
     "output_type": "stream",
     "text": [
      "[Parallel(n_jobs=-1)]: Using backend LokyBackend with 4 concurrent workers.\n",
      "[Parallel(n_jobs=-1)]: Done  26 tasks      | elapsed:    0.7s\n",
      "[Parallel(n_jobs=-1)]: Done 172 tasks      | elapsed:    4.6s\n",
      "[Parallel(n_jobs=-1)]: Done 418 tasks      | elapsed:   11.1s\n",
      "[Parallel(n_jobs=-1)]: Done 600 out of 600 | elapsed:   28.9s finished\n",
      "C:\\Users\\CEPEL\\anaconda3\\lib\\site-packages\\sklearn\\model_selection\\_search.py:823: FutureWarning: The parameter 'iid' is deprecated in 0.22 and will be removed in 0.24.\n",
      "  \"removed in 0.24.\", FutureWarning\n"
     ]
    }
   ],
   "source": [
    "# Applying Grid Search to find the best model and the best parameters\n",
    "parameters =  { 'kernel' : ['rbf', 'sigmoid'],\n",
    "                 'gamma' : [0.001, 0.01, 0.1, 1, 'scale'],\n",
    "                 'tol' : [0.0001],\n",
    "                 'C': [0.001, 0.01, 0.1, 1, 10, 100] }\n",
    "regressor_svr = GridSearchCV(estimator = regressor_svr,\n",
    "                           param_grid = parameters,\n",
    "                           cv = 10,\n",
    "                           verbose = 4,\n",
    "                           iid = True,\n",
    "                           n_jobs = -1)\n",
    "regressor_svr = regressor_svr.fit(X_train_scaled, y_train_scaled.ravel())"
   ]
  },
  {
   "cell_type": "code",
   "execution_count": 44,
   "metadata": {},
   "outputs": [
    {
     "name": "stdout",
     "output_type": "stream",
     "text": [
      "CV:  0.8297869935514967\n",
      "R2_score (train):  0.8518852943249553\n",
      "R2_score (test):  0.8547433206625017\n",
      "RMSE:  4681.66059159948\n"
     ]
    }
   ],
   "source": [
    "# Predicting Cross Validation Score\n",
    "cv_svr = regressor_svr.best_score_\n",
    "\n",
    "# Predicting R2 Score the Train set results\n",
    "y_pred_svr_train = sc_y.inverse_transform(regressor_svr.predict(sc_X.transform(X_train)))\n",
    "r2_score_svr_train = r2_score(y_train, y_pred_svr_train)\n",
    "\n",
    "# Predicting R2 Score the Test set results\n",
    "y_pred_svr_test = sc_y.inverse_transform(regressor_svr.predict(sc_X.transform(X_test)))\n",
    "r2_score_svr_test = r2_score(y_test, y_pred_svr_test)\n",
    "\n",
    "# Predicting RMSE the Test set results\n",
    "rmse_svr = (np.sqrt(mean_squared_error(y_test, y_pred_svr_test)))\n",
    "print('CV: ', cv_svr.mean())\n",
    "print('R2_score (train): ', r2_score_svr_train)\n",
    "print('R2_score (test): ', r2_score_svr_test)\n",
    "print(\"RMSE: \", rmse_svr)"
   ]
  },
  {
   "cell_type": "code",
   "execution_count": 45,
   "metadata": {},
   "outputs": [],
   "source": [
    "filename = 'data/svr_model.sav'\n",
    "pickle.dump(regressor_svr, open(filename, 'wb'))"
   ]
  },
  {
   "cell_type": "code",
   "execution_count": null,
   "metadata": {},
   "outputs": [],
   "source": []
  },
  {
   "cell_type": "code",
   "execution_count": 119,
   "metadata": {},
   "outputs": [],
   "source": [
    "sample = [19, \"female\", 27.900, 0, \"yes\", \"southwest\"]\n",
    "sample = pd.DataFrame([sample], columns = [\"age\", \"sex\", \"bmi\", \"children\", \"smoker\", \"region\"])"
   ]
  },
  {
   "cell_type": "code",
   "execution_count": 120,
   "metadata": {},
   "outputs": [],
   "source": [
    "sample = pd.concat(\n",
    "    [\n",
    "        sample,\n",
    "        pd.DataFrame(ohe_smoker.transform(sample[\"smoker\"].values.reshape(-1,1)).toarray(),\n",
    "                    columns = ohe_smoker.get_feature_names(['smoker'])).astype(int)\n",
    "    ], axis=1).drop(\"smoker\", axis=1)"
   ]
  },
  {
   "cell_type": "code",
   "execution_count": 121,
   "metadata": {},
   "outputs": [],
   "source": [
    "sample = pd.concat(\n",
    "    [\n",
    "        sample,\n",
    "        pd.DataFrame(ohe_sex.transform(sample[\"sex\"].values.reshape(-1,1)).toarray(),\n",
    "                    columns = ohe_sex.get_feature_names(['sex'])).astype(int)\n",
    "    ], axis=1).drop(\"sex\", axis=1)"
   ]
  },
  {
   "cell_type": "code",
   "execution_count": 122,
   "metadata": {},
   "outputs": [],
   "source": [
    "sample = pd.concat(\n",
    "    [\n",
    "        sample,\n",
    "        pd.DataFrame(ohe_region.transform(sample[\"region\"].values.reshape(-1,1)).toarray(),\n",
    "                    columns = ohe_region.get_feature_names(['region'])).astype(int)\n",
    "    ], axis=1).drop(\"region\", axis=1)"
   ]
  },
  {
   "cell_type": "code",
   "execution_count": 123,
   "metadata": {},
   "outputs": [
    {
     "data": {
      "text/html": [
       "<div>\n",
       "<style scoped>\n",
       "    .dataframe tbody tr th:only-of-type {\n",
       "        vertical-align: middle;\n",
       "    }\n",
       "\n",
       "    .dataframe tbody tr th {\n",
       "        vertical-align: top;\n",
       "    }\n",
       "\n",
       "    .dataframe thead th {\n",
       "        text-align: right;\n",
       "    }\n",
       "</style>\n",
       "<table border=\"1\" class=\"dataframe\">\n",
       "  <thead>\n",
       "    <tr style=\"text-align: right;\">\n",
       "      <th></th>\n",
       "      <th>age</th>\n",
       "      <th>bmi</th>\n",
       "      <th>children</th>\n",
       "      <th>smoker_yes</th>\n",
       "      <th>sex_male</th>\n",
       "      <th>region_northwest</th>\n",
       "      <th>region_southeast</th>\n",
       "      <th>region_southwest</th>\n",
       "    </tr>\n",
       "  </thead>\n",
       "  <tbody>\n",
       "    <tr>\n",
       "      <th>0</th>\n",
       "      <td>19</td>\n",
       "      <td>27.9</td>\n",
       "      <td>0</td>\n",
       "      <td>1</td>\n",
       "      <td>0</td>\n",
       "      <td>0</td>\n",
       "      <td>0</td>\n",
       "      <td>1</td>\n",
       "    </tr>\n",
       "  </tbody>\n",
       "</table>\n",
       "</div>"
      ],
      "text/plain": [
       "   age   bmi  children  smoker_yes  sex_male  region_northwest  \\\n",
       "0   19  27.9         0           1         0                 0   \n",
       "\n",
       "   region_southeast  region_southwest  \n",
       "0                 0                 1  "
      ]
     },
     "execution_count": 123,
     "metadata": {},
     "output_type": "execute_result"
    }
   ],
   "source": [
    "sample.head()"
   ]
  },
  {
   "cell_type": "code",
   "execution_count": null,
   "metadata": {},
   "outputs": [],
   "source": []
  },
  {
   "cell_type": "code",
   "execution_count": null,
   "metadata": {},
   "outputs": [],
   "source": []
  },
  {
   "cell_type": "code",
   "execution_count": null,
   "metadata": {},
   "outputs": [],
   "source": []
  },
  {
   "cell_type": "code",
   "execution_count": null,
   "metadata": {},
   "outputs": [],
   "source": []
  },
  {
   "cell_type": "code",
   "execution_count": null,
   "metadata": {},
   "outputs": [],
   "source": []
  },
  {
   "cell_type": "code",
   "execution_count": 125,
   "metadata": {},
   "outputs": [
    {
     "name": "stdout",
     "output_type": "stream",
     "text": [
      "[18631.48806009]\n"
     ]
    }
   ],
   "source": [
    "loaded_model = pickle.load(open(filename, 'rb'))\n",
    "result = loaded_model.predict(sample)\n",
    "print(result)"
   ]
  },
  {
   "cell_type": "code",
   "execution_count": null,
   "metadata": {},
   "outputs": [],
   "source": []
  },
  {
   "cell_type": "code",
   "execution_count": null,
   "metadata": {},
   "outputs": [],
   "source": []
  }
 ],
 "metadata": {
  "kernelspec": {
   "display_name": "Python 3",
   "language": "python",
   "name": "python3"
  },
  "language_info": {
   "codemirror_mode": {
    "name": "ipython",
    "version": 3
   },
   "file_extension": ".py",
   "mimetype": "text/x-python",
   "name": "python",
   "nbconvert_exporter": "python",
   "pygments_lexer": "ipython3",
   "version": "3.7.6"
  }
 },
 "nbformat": 4,
 "nbformat_minor": 4
}
